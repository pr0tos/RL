{
 "cells": [
  {
   "cell_type": "code",
   "execution_count": 53,
   "id": "04d11fe8",
   "metadata": {},
   "outputs": [],
   "source": [
    "import torch\n",
    "import torch.nn as nn \n",
    "import numpy as np\n",
    "import gym\n",
    "import random\n",
    "\n",
    "from torch.distributions import Normal\n",
    "from copy import deepcopy"
   ]
  },
  {
   "cell_type": "code",
   "execution_count": null,
   "id": "1e62ee15",
   "metadata": {},
   "outputs": [],
   "source": [
    "class SAC(nn.Module):\n",
    "    def __init__(self, state_dim, action_dim, batch_size=64, gamma=0.99, alpha=0.1, tau=1e-2, pi_lr=1e-3, q_lr=1e-3):\n",
    "        super().__init__()\n",
    "\n",
    "        self.pi_model = nn.Sequential(nn.Linear(state_dim, 128), nn.ReLU(),\n",
    "                                      nn.Linear(128, 128), nn.ReLU(),\n",
    "                                      nn.Linear(128, 2 * action_dim), nn.Tanh())\n",
    "        \n",
    "        self.q1_model = nn.Sequential(nn.Linear(state_dim + action_dim, 128), nn.ReLU(),\n",
    "                                      nn.Linear(128, 128), nn.ReLU(),\n",
    "                                      nn.Linear(128, 1))\n",
    "        \n",
    "        self.q2_model = nn.Sequential(nn.Linear(state_dim + action_dim, 128), nn.ReLU(),\n",
    "                                      nn.Linear(128, 128), nn.ReLU(),\n",
    "                                      nn.Linear(128, 1))\n",
    "        \n",
    "        self.memory = []\n",
    "        self.batch_size = batch_size\n",
    "\n",
    "        self.pi_optimizer = torch.optim.Adam(self.pi_model.parameters(), pi_lr)\n",
    "        self.q1_optimizer = torch.optim.Adam(self.q1_model.parameters(), q_lr)\n",
    "        self.q2_optimizer = torch.optim.Adam(self.q2_model.parameters(), q_lr)\n",
    "\n",
    "        self.q1_target_model = deepcopy(self.q1_model)\n",
    "        self.q2_target_model = deepcopy(self.q2_model)\n",
    "        \n",
    "        self.gamma = gamma\n",
    "        self.alpha = alpha\n",
    "        self.tau = tau\n",
    "\n",
    "        \n",
    "    def get_action(self, state):\n",
    "        states = torch.FloatTensor(state).unsqueeze(0)\n",
    "        action, _ = self.predict_actions(states)\n",
    "        return action.squeeze(1).detach().numpy()\n",
    "    \n",
    "    def fit(self, state, action, reward, done, next_state):\n",
    "        self.memory.append([state, action, reward, done, next_state])\n",
    "\n",
    "        if len(self.memory) > self.batch_size:\n",
    "            batch = random.sample(self.memory, self.batch_size)\n",
    "            states, actions, rewards, dones, next_states = map(torch.FloatTensor, zip(*batch))\n",
    "            rewards, dones = rewards.unsqueeze(1), dones.unsqueeze(1)\n",
    "\n",
    "            next_actions, next_log_probs = self.predict_actions(next_states)\n",
    "            next_states_actions = torch.concatenate((next_states, next_actions), dim = 1)\n",
    "            q1_values = self.q1_target_model(next_states_actions)\n",
    "            q2_values = self.q2_target_model(next_states_actions)\n",
    "            next_min_values = torch.min(q1_values, q2_values)\n",
    "            targets = rewards * self.gamma * (1- dones) * (next_min_values - self.alpha * next_log_probs)\n",
    "            states_and_actions = torch.concatenate((states, actions), dim = 1)\n",
    "            q1_loss = torch.mean((self.q1_model(states_and_actions)- targets.detach())**2)\n",
    "            q2_loss = torch.mean((self.q2_model(states_and_actions)- targets.detach())**2)\n",
    "            self.update_model(q1_loss, self.q1_optimizer, self.q1_model, self.q1_target_model)\n",
    "            self.update_model(q2_loss, self.q2_optimizer, self.q2_model, self.q2_target_model)\n",
    "\n",
    "            pred\n",
    "\n",
    "\n",
    "\n",
    "    def update_model(self, loss, optimizer, model=None, target_model=None):\n",
    "        loss.backward()\n",
    "        optimizer.step()\n",
    "        optimizer.zero_grad()\n",
    "        if model != None and target_model != None:\n",
    "            for param, terget_param in zip(model.parameters(), target_model.parameters()):\n",
    "                new_terget_param = (1 - self.tau) * terget_param + self.tau * param\n",
    "                terget_param.data.copy_(new_terget_param)\n",
    "\n",
    "\n",
    "    def predict_actions(self, states):\n",
    "        mean, log_std = self.pi_model(states).T\n",
    "        mean, log_std = mean.unsqueeze(1), log_std.unsqueeze(1)\n",
    "        dist = Normal(mean, torch.exp(log_std))\n",
    "        action = dist.rsample()\n",
    "        log_probs = dist.log_prob(action)\n",
    "        return action, log_probs"
   ]
  },
  {
   "cell_type": "code",
   "execution_count": 58,
   "id": "6b93fd10",
   "metadata": {},
   "outputs": [
    {
     "name": "stderr",
     "output_type": "stream",
     "text": [
      "/home/eidel/anaconda3/envs/rl/lib/python3.10/site-packages/gym/utils/env_checker.py:200: UserWarning: \u001b[33mWARN: We recommend you to use a symmetric and normalized Box action space (range=[-1, 1]) cf https://stable-baselines3.readthedocs.io/en/master/guide/rl_tips.html\u001b[0m\n",
      "  logger.warn(\n"
     ]
    },
    {
     "data": {
      "text/plain": [
       "np.float64(-1045.3491777449074)"
      ]
     },
     "execution_count": 58,
     "metadata": {},
     "output_type": "execute_result"
    }
   ],
   "source": [
    "env = gym.make('Pendulum-v1')\n",
    "state_dim = env.observation_space.shape[0] \n",
    "action_dim = env.action_space.shape[0]\n",
    "\n",
    "agent = SAC(state_dim, action_dim)\n",
    "\n",
    "total_reward = 0\n",
    "\n",
    "state = env.reset()\n",
    "for t in range(200):\n",
    "    action = agent.get_action(state)\n",
    "    next_state, reward, done, _ = env.step(action)\n",
    "    \n",
    "    agent.fit(state, action, reward, done, next_state)\n",
    "\n",
    "    total_reward += reward\n",
    "    state = next_state\n",
    "\n",
    "total_reward"
   ]
  },
  {
   "cell_type": "code",
   "execution_count": null,
   "id": "ecd19031",
   "metadata": {},
   "outputs": [],
   "source": []
  },
  {
   "cell_type": "code",
   "execution_count": null,
   "id": "9454d80a",
   "metadata": {},
   "outputs": [],
   "source": []
  }
 ],
 "metadata": {
  "kernelspec": {
   "display_name": "rl",
   "language": "python",
   "name": "python3"
  },
  "language_info": {
   "codemirror_mode": {
    "name": "ipython",
    "version": 3
   },
   "file_extension": ".py",
   "mimetype": "text/x-python",
   "name": "python",
   "nbconvert_exporter": "python",
   "pygments_lexer": "ipython3",
   "version": "3.10.16"
  }
 },
 "nbformat": 4,
 "nbformat_minor": 5
}
